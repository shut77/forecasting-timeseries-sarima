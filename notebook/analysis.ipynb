{
 "cells": [
  {
   "cell_type": "code",
   "execution_count": 103,
   "id": "fb5feee7",
   "metadata": {},
   "outputs": [],
   "source": [
    "import pandas as pd \n",
    "import matplotlib.pyplot as plt\n",
    "from statsmodels.graphics.tsaplots import plot_acf, plot_pacf\n",
    "from statsmodels.graphics.tsaplots import plot_acf, plot_pacf\n",
    "from statsmodels.tsa.deterministic import CalendarFourier, DeterministicProcess\n",
    "from sklearn.preprocessing import StandardScaler"
   ]
  },
  {
   "cell_type": "code",
   "execution_count": 54,
   "id": "0747733d",
   "metadata": {},
   "outputs": [],
   "source": [
    "path2 = 'energy_dataset.csv'\n",
    "csv2 = pd.read_csv(path2)\n",
    "df_energy = pd.DataFrame(csv2)\n",
    "df_energy['time'] = pd.to_datetime(df_energy['time'], utc=True)\n",
    "df = df_energy.set_index(\"time\")[[\"total load actual\"]].copy()"
   ]
  },
  {
   "cell_type": "code",
   "execution_count": null,
   "id": "7317e9df",
   "metadata": {},
   "outputs": [],
   "source": [
    "def visual(df, time_col='time', val_col ='total load actual',  n_points=None, title='Потребление - время', label = 'Потребление', xlabel='Дата', ylabel='МВт' ):\n",
    "    if time_col not in df.columns:\n",
    "        time_data = df.index\n",
    "    else:\n",
    "        time_data = df[time_col]\n",
    "\n",
    "    if n_points is None:\n",
    "        value_data = df[val_col]\n",
    "    else:\n",
    "        time_data = time_data[:n_points]\n",
    "        value_data = df[val_col][:n_points]\n",
    "\n",
    "    plt.figure(figsize=(18,5))\n",
    "    plt.plot(time_data, value_data, label=label)\n",
    "    plt.title(title)\n",
    "    plt.xlabel(xlabel)\n",
    "    plt.ylabel(ylabel)\n",
    "    plt.legend()\n",
    "    plt.show()"
   ]
  },
  {
   "cell_type": "code",
   "execution_count": 82,
   "id": "bf87dae7",
   "metadata": {},
   "outputs": [],
   "source": [
    "def corralelogramm(df, lags_acf = 30, lags_pacf = 30):\n",
    "    plot_acf(df.dropna(), lags = lags_acf)\n",
    "    plt.title('АКФ')\n",
    "    plt.show()\n",
    "    plot_pacf(df.dropna(), lags = lags_pacf)\n",
    "    plt.title(\"ЧАКФ\")\n",
    "    plt.show()"
   ]
  },
  {
   "cell_type": "code",
   "execution_count": 59,
   "id": "5c9abe01",
   "metadata": {},
   "outputs": [],
   "source": [
    "def diff(df, lag = 1):\n",
    "    df_diff = df.diff(lag).dropna()\n",
    "    return df_diff"
   ]
  },
  {
   "cell_type": "code",
   "execution_count": 83,
   "id": "99a40cb6",
   "metadata": {},
   "outputs": [],
   "source": [
    "def create_exog_fourier(df, D=2, W=4, ME=4, seasonal=False, order = 0):\n",
    "    df.index = pd.to_datetime(df.index).tz_localize(None)\n",
    "    fourier_daily = CalendarFourier(freq='D', order=D)\n",
    "    fourier_week  = CalendarFourier(freq='W', order=W)\n",
    "    fourier_month  = CalendarFourier(freq='ME', order=ME)\n",
    "    dp = DeterministicProcess(\n",
    "        index=df.index,\n",
    "        constant=True,\n",
    "        order=order,\n",
    "        seasonal=seasonal,                \n",
    "        additional_terms=[fourier_daily, fourier_week, fourier_month],\n",
    "        drop=True,\n",
    "    )\n",
    "    df_fourier = dp.in_sample()\n",
    "    return df_fourier\n"
   ]
  },
  {
   "cell_type": "code",
   "execution_count": null,
   "id": "2e3b43b7",
   "metadata": {},
   "outputs": [],
   "source": [
    "def create_exog_calendar(df, freq='h'):\n",
    "    df_features = pd.DataFrame(index=df.index).asfreq(freq) \n",
    "    df_features['is_weekend'] = (df.index.dayofweek >= 5).astype(int)\n",
    "    df_features['month'] = df.index.month\n",
    "    df_features['is_night'] = ((df.index.hour >= 4) & (df.index.hour <= 7)).astype(int)\n",
    "    df_features['is_evening'] = ((df.index.hour >= 20) | (df.index.hour == 0)).astype(int)\n",
    "    return df_features"
   ]
  },
  {
   "cell_type": "code",
   "execution_count": 99,
   "id": "9f95aceb",
   "metadata": {},
   "outputs": [],
   "source": [
    "def concat_and_create_exog_fourier_for_weekend(df_fourier, df_features, freq='h'):\n",
    "    exog = pd.concat([df_fourier, df_features], axis=1)\n",
    "    exog = exog.dropna()        \n",
    "    exog['hour'] = exog.index.hour\n",
    "    hour_dummies = pd.get_dummies(exog['hour'], prefix=freq, drop_first=True)\n",
    "    fourier_week_cols = [c for c in exog.columns if 'freq=W' in str(c) or 'W-SUN' in str(c)] \n",
    "    for c in fourier_week_cols:\n",
    "        exog[c + '_wkend'] = exog[c] * exog['is_weekend']\n",
    "    return exog\n"
   ]
  },
  {
   "cell_type": "code",
   "execution_count": null,
   "id": "134d3766",
   "metadata": {},
   "outputs": [],
   "source": [
    "df_fourier = create_exog_fourier(df)\n",
    "df_features = create_exog_calendar(df)\n",
    "exog = concat_and_create_exog_fourier_for_weekend(df_fourier, df_features)"
   ]
  },
  {
   "cell_type": "code",
   "execution_count": 113,
   "id": "0f9cbb5a",
   "metadata": {},
   "outputs": [],
   "source": [
    "def train_test_split_with_exog(df, exog, split=0.8):\n",
    "    df = df.loc[exog.index]\n",
    "    train_size = int(len(df) * 0.8)\n",
    "    train, test = df.iloc[:train_size], df.iloc[train_size:]\n",
    "    exog_train, exog_test = exog.iloc[:train_size], exog.iloc[train_size:]\n",
    "    return train, test, exog_train, exog_test "
   ]
  },
  {
   "cell_type": "code",
   "execution_count": 108,
   "id": "29f1a72b",
   "metadata": {},
   "outputs": [],
   "source": [
    "def exog_scaler(exog_train, exog_test):\n",
    "    sc = StandardScaler()\n",
    "    exog_train_s = pd.DataFrame(sc.fit_transform(exog_train), index=exog_train.index, columns=exog_train.columns)\n",
    "    exog_test_s  = pd.DataFrame(sc.transform(exog_test), index=exog_test.index, columns=exog_test.columns)\n",
    "    return exog_train_s, exog_test_s"
   ]
  },
  {
   "cell_type": "code",
   "execution_count": 117,
   "id": "74650884",
   "metadata": {},
   "outputs": [],
   "source": [
    "train, test, exog_train, exog_test  = train_test_split_with_exog(df, exog)\n",
    "ex_tr, ex_test = exog_scaler(exog_train, exog_test)"
   ]
  }
 ],
 "metadata": {
  "kernelspec": {
   "display_name": ".venv",
   "language": "python",
   "name": ".venv"
  },
  "language_info": {
   "codemirror_mode": {
    "name": "ipython",
    "version": 3
   },
   "file_extension": ".py",
   "mimetype": "text/x-python",
   "name": "python",
   "nbconvert_exporter": "python",
   "pygments_lexer": "ipython3",
   "version": "3.12.3"
  }
 },
 "nbformat": 4,
 "nbformat_minor": 5
}
